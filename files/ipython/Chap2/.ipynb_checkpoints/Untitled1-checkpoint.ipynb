{
 "cells": [
  {
   "cell_type": "code",
   "execution_count": 1,
   "metadata": {},
   "outputs": [],
   "source": [
    "import sympy"
   ]
  },
  {
   "cell_type": "code",
   "execution_count": 9,
   "metadata": {},
   "outputs": [],
   "source": [
    "x ,y,t, z = sympy.symbols(\"x, y,t, z\")"
   ]
  },
  {
   "cell_type": "code",
   "execution_count": 10,
   "metadata": {},
   "outputs": [],
   "source": [
    "f = sympy.Function(\"f\")"
   ]
  },
  {
   "cell_type": "code",
   "execution_count": 11,
   "metadata": {},
   "outputs": [],
   "source": [
    "sympy.init_printing()"
   ]
  },
  {
   "cell_type": "code",
   "execution_count": 12,
   "metadata": {},
   "outputs": [
    {
     "data": {
      "image/png": "[encoded data removed]",
      "text/latex": [
       "$$f{\\left (x \\right )} = C_{1} \\sin{\\left (3 x \\right )} + C_{2} \\cos{\\left (3 x \\right )}$$"
      ],
      "text/plain": [
       "f(x) = C₁⋅sin(3⋅x) + C₂⋅cos(3⋅x)"
      ]
     },
     "execution_count": 12,
     "metadata": {},
     "output_type": "execute_result"
    }
   ],
   "source": [
    "sympy.dsolve(Derivative(f(x), x, x) + 9*f(x), f(x))\n"
   ]
  },
  {
   "cell_type": "code",
   "execution_count": 7,
   "metadata": {},
   "outputs": [],
   "source": [
    "from sympy import *"
   ]
  },
  {
   "cell_type": "code",
   "execution_count": 14,
   "metadata": {},
   "outputs": [],
   "source": [
    "eq = Eq(Derivative(x(t),t), 12*t*x(t) + 8*y(t))"
   ]
  },
  {
   "cell_type": "code",
   "execution_count": 15,
   "metadata": {},
   "outputs": [
    {
     "data": {
      "image/png": "[encoded data removed]",
      "text/latex": [
       "$$\\frac{d}{d t} x{\\left (t \\right )} = 12 t x{\\left (t \\right )} + 8 y{\\left (t \\right )}$$"
      ],
      "text/plain": [
       "d                            \n",
       "──(x(t)) = 12⋅t⋅x(t) + 8⋅y(t)\n",
       "dt                           "
      ]
     },
     "execution_count": 15,
     "metadata": {},
     "output_type": "execute_result"
    }
   ],
   "source": [
    "eq"
   ]
  },
  {
   "cell_type": "code",
   "execution_count": 17,
   "metadata": {},
   "outputs": [
    {
     "data": {
      "image/png": "[encoded data removed]",
      "text/latex": [
       "$$- 4 \\int 2 y{\\left (t \\right )} e^{- 6 t^{2}}\\, dt - 4 \\int 3 t x{\\left (t \\right )} e^{- 6 t^{2}}\\, dt = C_{1}$$"
      ],
      "text/plain": [
       "    ⌠                      ⌠                        \n",
       "    ⎮             2        ⎮               2        \n",
       "    ⎮         -6⋅t         ⎮           -6⋅t         \n",
       "- 4⋅⎮ 2⋅y(t)⋅ℯ      dt - 4⋅⎮ 3⋅t⋅x(t)⋅ℯ      dt = C₁\n",
       "    ⌡                      ⌡                        "
      ]
     },
     "execution_count": 17,
     "metadata": {},
     "output_type": "execute_result"
    }
   ],
   "source": [
    "dsolve(eq)"
   ]
  },
  {
   "cell_type": "code",
   "execution_count": 20,
   "metadata": {},
   "outputs": [],
   "source": [
    "eq = Eq(Derivative(y(x),x,x)+Derivative(4.5*y(x),x),0)"
   ]
  },
  {
   "cell_type": "code",
   "execution_count": 21,
   "metadata": {},
   "outputs": [
    {
     "data": {
      "image/png": "[encoded data removed]",
      "text/latex": [
       "$$\\frac{d^{2}}{d x^{2}} y{\\left (x \\right )} + \\frac{d}{d x} 4.5 y{\\left (x \\right )} = 0$$"
      ],
      "text/plain": [
       "  2                         \n",
       " d          d               \n",
       "───(y(x)) + ──(4.5⋅y(x)) = 0\n",
       "  2         dx              \n",
       "dx                          "
      ]
     },
     "execution_count": 21,
     "metadata": {},
     "output_type": "execute_result"
    }
   ],
   "source": [
    "eq"
   ]
  },
  {
   "cell_type": "code",
   "execution_count": 22,
   "metadata": {},
   "outputs": [
    {
     "data": {
      "image/png": "[encoded data removed]",
      "text/latex": [
       "$$y{\\left (x \\right )} = C_{1} + \\frac{C_{2}}{\\left(e^{x}\\right)^{\\frac{9}{2}}}$$"
      ],
      "text/plain": [
       "               C₂  \n",
       "y(x) = C₁ + ───────\n",
       "                9/2\n",
       "            ⎛ x⎞   \n",
       "            ⎝ℯ ⎠   "
      ]
     },
     "execution_count": 22,
     "metadata": {},
     "output_type": "execute_result"
    }
   ],
   "source": [
    "dsolve(eq)"
   ]
  },
  {
   "cell_type": "code",
   "execution_count": 26,
   "metadata": {},
   "outputs": [
    {
     "ename": "SyntaxError",
     "evalue": "keyword can't be an expression (<ipython-input-26-cd459ddc329c>, line 1)",
     "output_type": "error",
     "traceback": [
      "\u001b[0;36m  File \u001b[0;32m\"<ipython-input-26-cd459ddc329c>\"\u001b[0;36m, line \u001b[0;32m1\u001b[0m\n\u001b[0;31m    dsolve(Derivative(y(x),x,x)+ Derivative(y(x),x)+3.25*y(x)=0)\u001b[0m\n\u001b[0m          ^\u001b[0m\n\u001b[0;31mSyntaxError\u001b[0m\u001b[0;31m:\u001b[0m keyword can't be an expression\n"
     ]
    }
   ],
   "source": [
    "dsolve(Derivative(y(x),x,x)+ Derivative(y(x),x)+3.25*y(x)=0)"
   ]
  },
  {
   "cell_type": "code",
   "execution_count": 31,
   "metadata": {},
   "outputs": [],
   "source": [
    "eq = Eq(Derivative(y(x),x,x)+Derivative(1.8*y(x),x)-2.08*y(x),0)"
   ]
  },
  {
   "cell_type": "code",
   "execution_count": 32,
   "metadata": {},
   "outputs": [
    {
     "data": {
      "image/png": "[encoded data removed]",
      "text/latex": [
       "$$y{\\left (x \\right )} = \\frac{C_{1}}{\\left(e^{x}\\right)^{\\frac{13}{5}}} + C_{2} \\left(e^{x}\\right)^{\\frac{4}{5}}$$"
      ],
      "text/plain": [
       "                         4/5\n",
       "          C₁         ⎛ x⎞   \n",
       "y(x) = ──────── + C₂⋅⎝ℯ ⎠   \n",
       "           13/5             \n",
       "       ⎛ x⎞                 \n",
       "       ⎝ℯ ⎠                 "
      ]
     },
     "execution_count": 32,
     "metadata": {},
     "output_type": "execute_result"
    }
   ],
   "source": [
    "dsolve(eq)"
   ]
  },
  {
   "cell_type": "code",
   "execution_count": 33,
   "metadata": {},
   "outputs": [
    {
     "data": {
      "image/png": "[encoded data removed]",
      "text/latex": [
       "$$- 2.08 y{\\left (x \\right )} + \\frac{d^{2}}{d x^{2}} y{\\left (x \\right )} + \\frac{d}{d x} 1.8 y{\\left (x \\right )} = 0$$"
      ],
      "text/plain": [
       "               2                         \n",
       "              d          d               \n",
       "-2.08⋅y(x) + ───(y(x)) + ──(1.8⋅y(x)) = 0\n",
       "               2         dx              \n",
       "             dx                          "
      ]
     },
     "execution_count": 33,
     "metadata": {},
     "output_type": "execute_result"
    }
   ],
   "source": [
    "eq"
   ]
  },
  {
   "cell_type": "code",
   "execution_count": 37,
   "metadata": {},
   "outputs": [],
   "source": [
    "q = Eq(Derivative(y(x),x,x)+Derivative(-30*y(x),x)+25*y(x),0)"
   ]
  },
  {
   "cell_type": "code",
   "execution_count": 39,
   "metadata": {},
   "outputs": [
    {
     "data": {
      "image/png": "[encoded data removed]",
      "text/latex": [
       "$$y{\\left (x \\right )} = C_{1} e^{5 x \\left(- 2 \\sqrt{2} + 3\\right)} + C_{2} e^{5 x \\left(2 \\sqrt{2} + 3\\right)}$$"
      ],
      "text/plain": [
       "           5⋅x⋅(-2⋅√2 + 3)       5⋅x⋅(2⋅√2 + 3)\n",
       "y(x) = C₁⋅ℯ                + C₂⋅ℯ              "
      ]
     },
     "execution_count": 39,
     "metadata": {},
     "output_type": "execute_result"
    }
   ],
   "source": [
    "dsolve(q)"
   ]
  },
  {
   "cell_type": "code",
   "execution_count": 40,
   "metadata": {},
   "outputs": [
    {
     "data": {
      "image/png": "[encoded data removed]",
      "text/latex": [
       "$$25 y{\\left (x \\right )} + \\frac{d}{d x} \\left(- 30 y{\\left (x \\right )}\\right) + \\frac{d^{2}}{d x^{2}} y{\\left (x \\right )} = 0$$"
      ],
      "text/plain": [
       "                           2          \n",
       "          d               d           \n",
       "25⋅y(x) + ──(-30⋅y(x)) + ───(y(x)) = 0\n",
       "          dx               2          \n",
       "                         dx           "
      ]
     },
     "execution_count": 40,
     "metadata": {},
     "output_type": "execute_result"
    }
   ],
   "source": [
    "q"
   ]
  },
  {
   "cell_type": "markdown",
   "metadata": {},
   "source": [
    " 1 kara 5"
   ]
  },
  {
   "cell_type": "code",
   "execution_count": null,
   "metadata": {},
   "outputs": [],
   "source": []
  }
 ],
 "metadata": {
  "kernelspec": {
   "display_name": "Python 3",
   "language": "python",
   "name": "python3"
  },
  "language_info": {
   "codemirror_mode": {
    "name": "ipython",
    "version": 3
   },
   "file_extension": ".py",
   "mimetype": "text/x-python",
   "name": "python",
   "nbconvert_exporter": "python",
   "pygments_lexer": "ipython3",
   "version": "3.7.0"
  }
 },
 "nbformat": 4,
 "nbformat_minor": 2
}
